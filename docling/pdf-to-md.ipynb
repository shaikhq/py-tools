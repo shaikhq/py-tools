{
 "cells": [
  {
   "cell_type": "markdown",
   "id": "bcd9b1ca",
   "metadata": {},
   "source": [
    "# 📄 PDF to Markdown Converter with DocLing\n",
    "This notebook demonstrates how to convert PDF documents into clean, structured Markdown files using the DocLing library.\n",
    "It uses the DocumentConverter class with PdfPipelineOptions to process PDFs and extract both text and embedded images.\n",
    "\n",
    "✅ Features:\n",
    "\n",
    "Supports PDF input from local path or URL\n",
    "\n",
    "Automatically generates page images\n",
    "\n",
    "Outputs Markdown with embedded content\n",
    "\n",
    "Stores results in a designated output directory"
   ]
  },
  {
   "cell_type": "code",
   "execution_count": 1,
   "id": "db2f4d20",
   "metadata": {},
   "outputs": [
    {
     "name": "stderr",
     "output_type": "stream",
     "text": [
      "/home/db2inst1/py-tools/.venv/lib64/python3.12/site-packages/tqdm/auto.py:21: TqdmWarning: IProgress not found. Please update jupyter and ipywidgets. See https://ipywidgets.readthedocs.io/en/stable/user_install.html\n",
      "  from .autonotebook import tqdm as notebook_tqdm\n"
     ]
    }
   ],
   "source": [
    "from docling.datamodel.base_models import InputFormat\n",
    "from docling.datamodel.pipeline_options import EasyOcrOptions, PdfPipelineOptions\n",
    "from docling.document_converter import DocumentConverter, PdfFormatOption\n",
    "from pathlib import Path"
   ]
  },
  {
   "cell_type": "markdown",
   "id": "425a9f9d",
   "metadata": {},
   "source": [
    "## 🔧 Setting Up the PDF Conversion Pipeline\n",
    "This block of code configures the PDF-to-Markdown conversion pipeline using DocLing. Here's a breakdown:"
   ]
  },
  {
   "cell_type": "code",
   "execution_count": 2,
   "id": "8246bdc9",
   "metadata": {},
   "outputs": [],
   "source": [
    "artifacts_path = \"/home/db2inst1/.cache/docling/models\"\n",
    "\n",
    "pipeline_options = PdfPipelineOptions(artifacts_path=artifacts_path, generate_page_images=True, images_scale=2.0)\n",
    "doc_converter = DocumentConverter(\n",
    "    format_options={\n",
    "        InputFormat.PDF: PdfFormatOption(pipeline_options=pipeline_options)\n",
    "    }\n",
    ")"
   ]
  },
  {
   "cell_type": "markdown",
   "id": "352e90ee",
   "metadata": {},
   "source": [
    "## 📥 Loading and Converting the PDF\n",
    "This section loads the input PDF and runs the conversion pipeline:"
   ]
  },
  {
   "cell_type": "code",
   "execution_count": 3,
   "id": "4f8b0871",
   "metadata": {},
   "outputs": [],
   "source": [
    "source = \"sample-paper1.pdf\"  # PDF path or URL\n",
    "result = doc_converter.convert(source)"
   ]
  },
  {
   "cell_type": "markdown",
   "id": "11efa53c",
   "metadata": {},
   "source": [
    "## 📤 Exporting the Results to Markdown\n",
    "This section saves the converted document as a Markdown file with embedded images:\n",
    "\n",
    "Creates an output directory if it doesn’t exist.\n",
    "\n",
    "Extracts the filename (without extension) from the input PDF.\n",
    "\n",
    "Writes the converted content to a .md file using export_to_markdown(image_mode=\"embedded\"), which includes both text and inline images."
   ]
  },
  {
   "cell_type": "code",
   "execution_count": 4,
   "id": "c4d0396e",
   "metadata": {},
   "outputs": [],
   "source": [
    "## Export results\n",
    "output_dir = Path(\"output\")\n",
    "output_dir.mkdir(parents=True, exist_ok=True)\n",
    "doc_filename = result.input.file.stem\n",
    "\n",
    "# Export Markdown format:\n",
    "with (output_dir / f\"{doc_filename}.md\").open(\"w\", encoding=\"utf-8\") as fp:\n",
    "    fp.write(result.document.export_to_markdown(image_mode=\"embedded\"))"
   ]
  }
 ],
 "metadata": {
  "kernelspec": {
   "display_name": ".venv",
   "language": "python",
   "name": "python3"
  },
  "language_info": {
   "codemirror_mode": {
    "name": "ipython",
    "version": 3
   },
   "file_extension": ".py",
   "mimetype": "text/x-python",
   "name": "python",
   "nbconvert_exporter": "python",
   "pygments_lexer": "ipython3",
   "version": "3.12.8"
  }
 },
 "nbformat": 4,
 "nbformat_minor": 5
}
